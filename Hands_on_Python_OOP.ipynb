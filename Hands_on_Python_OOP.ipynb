{
  "nbformat": 4,
  "nbformat_minor": 0,
  "metadata": {
    "colab": {
      "provenance": [],
      "include_colab_link": true
    },
    "kernelspec": {
      "name": "python3",
      "display_name": "Python 3"
    },
    "language_info": {
      "name": "python"
    }
  },
  "cells": [
    {
      "cell_type": "markdown",
      "metadata": {
        "id": "view-in-github",
        "colab_type": "text"
      },
      "source": [
        "<a href=\"https://colab.research.google.com/github/nurgh89/AnimationKotlin/blob/master/Hands_on_Python_OOP.ipynb\" target=\"_parent\"><img src=\"https://colab.research.google.com/assets/colab-badge.svg\" alt=\"Open In Colab\"/></a>"
      ]
    },
    {
      "cell_type": "markdown",
      "source": [
        "# Python OOP\n",
        "\n",
        "**Covered Topics**\n",
        "- OOP Fundamentals\n",
        "- Concepts of OOP\n",
        "  - Inheritances\n",
        "  - Polymorphism\n",
        "  - Abstraction\n",
        "  - Encapsulation"
      ],
      "metadata": {
        "id": "1afvjo7P5-6F"
      }
    },
    {
      "cell_type": "markdown",
      "source": [
        "## OOP Fundamentals\n",
        "\n"
      ],
      "metadata": {
        "id": "QlSqfFOW9OV8"
      }
    },
    {
      "cell_type": "markdown",
      "source": [
        "### OOP Structure\n",
        "\n",
        "<img src=\"https://docs.google.com/uc?export=download&id=1QL7ztwAFfu6OyNJl6KCuxsEErGVa98AR\">"
      ],
      "metadata": {
        "id": "d8KVyWaM9hQ4"
      }
    },
    {
      "cell_type": "markdown",
      "source": [
        "#### Class dan Object\n",
        "\n",
        "Untuk membuat sebuah kelas pada Bahasa Python dimulai dengan menggunakan kata kunci class dan dikuti dengan titik dua (:).\n",
        "Aturan penulisan:\n",
        "\n",
        "```\n",
        "class <nama_kelas>:\n",
        "```\n",
        "\n",
        "\n"
      ],
      "metadata": {
        "id": "Ztj_7xWz9iK-"
      }
    },
    {
      "cell_type": "code",
      "source": [
        "class Handphone():\n",
        "  pass"
      ],
      "metadata": {
        "id": "lhlo72ku-xJ2"
      },
      "execution_count": null,
      "outputs": []
    },
    {
      "cell_type": "markdown",
      "source": [
        "Seperti definisinya, class diatas akan menjadi *blueprint* dari objek/instance yang akan masukkan pada tahap selanjutnya. Lalu kita inisiasikan objek dari class yang telah kita buat."
      ],
      "metadata": {
        "id": "P9OdbCuD-yZO"
      }
    },
    {
      "cell_type": "code",
      "execution_count": null,
      "metadata": {
        "colab": {
          "base_uri": "https://localhost:8080/"
        },
        "id": "8th9mUsP57Z_",
        "outputId": "983fea82-88d8-4210-ca4b-bedcd58f38e1"
      },
      "outputs": [
        {
          "output_type": "stream",
          "name": "stdout",
          "text": [
            "<__main__.Handphone object at 0x7e34091610f0>\n",
            "<__main__.Handphone object at 0x7e3409163940>\n"
          ]
        }
      ],
      "source": [
        "hp_bambang = Handphone()\n",
        "hp_caca = Handphone()\n",
        "\n",
        "print(hp_bambang)\n",
        "print(hp_caca)"
      ]
    },
    {
      "cell_type": "markdown",
      "source": [
        "Kode diatas artinya objek hp_bambang dan hp_caca memakai class mobil sebagai *blueprint* untuk objek tersebut.\n",
        "\n",
        "Artinya semua variabel, atau metode nantinya akan mengikuti class mobil. Sekarang kita akan masukan atribut/variabel dalam objek yang kita buat. kita akan masukkan jenis dan warna dari objek tersebut."
      ],
      "metadata": {
        "id": "M7nWeW2r-7A1"
      }
    },
    {
      "cell_type": "code",
      "source": [
        "hp_bambang.merk = ['nyamnyung','oddo']\n",
        "# hp_bambang.merk = 'oddo'\n",
        "hp_bambang.warna = 'hijau telur asin'"
      ],
      "metadata": {
        "id": "NcYal8Bu_FBK"
      },
      "execution_count": null,
      "outputs": []
    },
    {
      "cell_type": "markdown",
      "source": [
        "Jika kita menggunakan metode print() untuk melihat atribut dan objek yang telah kita buat maka kita akan mendapatkan"
      ],
      "metadata": {
        "id": "7JtNHeKK_q7b"
      }
    },
    {
      "cell_type": "code",
      "source": [
        "print(hp_bambang.merk)\n",
        "print(hp_bambang.__dict__)\n",
        "\n",
        "for i in hp_bambang.merk:\n",
        "  print(i)"
      ],
      "metadata": {
        "colab": {
          "base_uri": "https://localhost:8080/"
        },
        "id": "0pTsqm5R_e-E",
        "outputId": "c2cce73c-e968-4ca0-bcb3-798585e72862"
      },
      "execution_count": null,
      "outputs": [
        {
          "output_type": "stream",
          "name": "stdout",
          "text": [
            "['nyamnyung', 'oddo']\n",
            "{'merk': ['nyamnyung', 'oddo'], 'warna': 'hijau telur asin'}\n",
            "nyamnyung\n",
            "oddo\n"
          ]
        }
      ]
    },
    {
      "cell_type": "markdown",
      "source": [
        "- Pada hasil pertama kita diperlihatkan bahwa hp_bambang merupakan sebuah objek.\n",
        "\n",
        "- Pada hasil kedua kita diperlihatkan bahwa atribut warna pada objek hp_bambang bernilai “hijau telur asin”.\n",
        "\n",
        "- Pada hasil terakhir kita ingin melihat atribut apa saja yang dimiliki oleh objek tersebut."
      ],
      "metadata": {
        "id": "o9TCAAKs_uk1"
      }
    },
    {
      "cell_type": "code",
      "source": [
        "hp_caca.merk = 'apple jatoh'\n",
        "hp_caca.warna = 'hitam'\n",
        "hp_caca.storage = '256 GB'"
      ],
      "metadata": {
        "id": "ups3maCC_ho5"
      },
      "execution_count": null,
      "outputs": []
    },
    {
      "cell_type": "code",
      "source": [
        "print(hp_caca.merk)\n",
        "print(hp_caca.storage)\n",
        "print(hp_caca.__dict__)"
      ],
      "metadata": {
        "colab": {
          "base_uri": "https://localhost:8080/"
        },
        "id": "flXavMzUiZDx",
        "outputId": "dab28bb3-bc9c-4b87-c0b9-651822cb1b64"
      },
      "execution_count": null,
      "outputs": [
        {
          "output_type": "stream",
          "name": "stdout",
          "text": [
            "apple jatoh\n",
            "256 GB\n",
            "{'merk': 'apple jatoh', 'warna': 'hitam', 'storage': '256 GB'}\n"
          ]
        }
      ]
    },
    {
      "cell_type": "code",
      "source": [
        "print(hp_bambang.merk)\n",
        "print(hp_bambang.storage)\n",
        "print(hp_bambang.__dict__)"
      ],
      "metadata": {
        "colab": {
          "base_uri": "https://localhost:8080/",
          "height": 234
        },
        "id": "ucs-0pT1irXF",
        "outputId": "16d0a82d-7e7c-4c42-e924-a2279c6e2f09"
      },
      "execution_count": null,
      "outputs": [
        {
          "output_type": "stream",
          "name": "stdout",
          "text": [
            "['nyamnyung', 'oddo']\n"
          ]
        },
        {
          "output_type": "error",
          "ename": "AttributeError",
          "evalue": "ignored",
          "traceback": [
            "\u001b[0;31m---------------------------------------------------------------------------\u001b[0m",
            "\u001b[0;31mAttributeError\u001b[0m                            Traceback (most recent call last)",
            "\u001b[0;32m<ipython-input-18-b4fa451b7df6>\u001b[0m in \u001b[0;36m<cell line: 2>\u001b[0;34m()\u001b[0m\n\u001b[1;32m      1\u001b[0m \u001b[0mprint\u001b[0m\u001b[0;34m(\u001b[0m\u001b[0mhp_bambang\u001b[0m\u001b[0;34m.\u001b[0m\u001b[0mmerk\u001b[0m\u001b[0;34m)\u001b[0m\u001b[0;34m\u001b[0m\u001b[0;34m\u001b[0m\u001b[0m\n\u001b[0;32m----> 2\u001b[0;31m \u001b[0mprint\u001b[0m\u001b[0;34m(\u001b[0m\u001b[0mhp_bambang\u001b[0m\u001b[0;34m.\u001b[0m\u001b[0mstorage\u001b[0m\u001b[0;34m)\u001b[0m\u001b[0;34m\u001b[0m\u001b[0;34m\u001b[0m\u001b[0m\n\u001b[0m\u001b[1;32m      3\u001b[0m \u001b[0mprint\u001b[0m\u001b[0;34m(\u001b[0m\u001b[0mhp_bambang\u001b[0m\u001b[0;34m.\u001b[0m\u001b[0m__dict__\u001b[0m\u001b[0;34m)\u001b[0m\u001b[0;34m\u001b[0m\u001b[0;34m\u001b[0m\u001b[0m\n",
            "\u001b[0;31mAttributeError\u001b[0m: 'Handphone' object has no attribute 'storage'"
          ]
        }
      ]
    },
    {
      "cell_type": "code",
      "source": [
        "hp_bambang.storage = None"
      ],
      "metadata": {
        "id": "pvjcXHuQlI-r"
      },
      "execution_count": null,
      "outputs": []
    },
    {
      "cell_type": "code",
      "source": [
        "# print(hp_bambang.merk)\n",
        "# print(hp_bambang.storage)\n",
        "# print(hp_bambang.__dict__)\n",
        "\n",
        "# if hp_bambang.storage:\n",
        "#   print('yes')\n",
        "# else:\n",
        "#   print('no')\n",
        "\n",
        "try:\n",
        "  print(hp_bambang.storage)\n",
        "except:\n",
        "  print(\"hp_bambang storage ga ada value nya\")\n",
        "  print(None)"
      ],
      "metadata": {
        "colab": {
          "base_uri": "https://localhost:8080/"
        },
        "id": "PgRc5WpmlLNJ",
        "outputId": "5ca8553e-b49a-4428-c981-14b7370054bf"
      },
      "execution_count": null,
      "outputs": [
        {
          "output_type": "stream",
          "name": "stdout",
          "text": [
            "hp_bambang storage ga ada value nya\n",
            "None\n"
          ]
        }
      ]
    },
    {
      "cell_type": "code",
      "source": [
        "print(hp_bambang.merk)\n",
        "print(hp_bambang.storage)\n",
        "print(hp_bambang.__dict__)\n",
        "\n",
        "if hp_bambang.storage:\n",
        "  print('yes')\n",
        "else:\n",
        "  print('no')\n",
        "\n",
        "try:\n",
        "  print(hp_bambang.storage)\n",
        "except:\n",
        "  print(\"hp_bambang storage ga ada value nya\")\n",
        "  print(None)"
      ],
      "metadata": {
        "colab": {
          "base_uri": "https://localhost:8080/"
        },
        "id": "sPlCChDFmSXJ",
        "outputId": "3af756e1-f9e5-45c4-d366-f2249672e93f"
      },
      "execution_count": null,
      "outputs": [
        {
          "output_type": "stream",
          "name": "stdout",
          "text": [
            "['nyamnyung', 'oddo']\n",
            "None\n",
            "{'merk': ['nyamnyung', 'oddo'], 'warna': 'hijau telur asin', 'storage': None}\n",
            "no\n",
            "None\n"
          ]
        }
      ]
    },
    {
      "cell_type": "code",
      "source": [
        "if hasattr(hp_bambang, 'storage'):\n",
        "    print(\"ada\")\n",
        "else:\n",
        "    print(\"tidak ada\")"
      ],
      "metadata": {
        "colab": {
          "base_uri": "https://localhost:8080/"
        },
        "id": "2T9cX34jmdm8",
        "outputId": "549a9a5a-7131-4e1a-d591-310df2e48709"
      },
      "execution_count": null,
      "outputs": [
        {
          "output_type": "stream",
          "name": "stdout",
          "text": [
            "ada\n"
          ]
        }
      ]
    },
    {
      "cell_type": "markdown",
      "source": [
        "### Methods\n",
        "\n",
        "Sebuah class memliki metode didalamnya yang dapat kita variasikan fungsinya tidak seperti metode init. Kalau kita menggunakan pemisalan sederhana, Jika objek yang kita maksudkan adalah kalkulator maka yang termasuk ke dalam metode yang dimaksud adalah operasi tambah, kurang, bagi, dan kali.\n",
        "\n",
        "Sekarang kita akan mencoba membuat metode pada class handphone sebelumnya."
      ],
      "metadata": {
        "id": "OivivTL0AM_G"
      }
    },
    {
      "cell_type": "code",
      "source": [
        "class Handphone():\n",
        "  def ringing(self):\n",
        "    print(\"kring kring kring\")\n",
        "\n",
        "  def call(self, orang):\n",
        "      print(f\"memanggil {orang}\")\n",
        "      # print(\"memanggil \"+orang)"
      ],
      "metadata": {
        "id": "pWI7EUo0Bye1"
      },
      "execution_count": null,
      "outputs": []
    },
    {
      "cell_type": "markdown",
      "source": [
        "method dari object, perlu ditambahkan parameter self"
      ],
      "metadata": {
        "id": "gG_YWRcMCLYa"
      }
    },
    {
      "cell_type": "code",
      "source": [
        "call('tukang galon')"
      ],
      "metadata": {
        "id": "KuSMVzvQppfT",
        "colab": {
          "base_uri": "https://localhost:8080/",
          "height": 180
        },
        "outputId": "02d97cbd-2b24-4752-cfe8-9d6e11ea64ed"
      },
      "execution_count": null,
      "outputs": [
        {
          "output_type": "error",
          "ename": "NameError",
          "evalue": "ignored",
          "traceback": [
            "\u001b[0;31m---------------------------------------------------------------------------\u001b[0m",
            "\u001b[0;31mNameError\u001b[0m                                 Traceback (most recent call last)",
            "\u001b[0;32m<ipython-input-21-29bf34463b3b>\u001b[0m in \u001b[0;36m<cell line: 1>\u001b[0;34m()\u001b[0m\n\u001b[0;32m----> 1\u001b[0;31m \u001b[0mcall\u001b[0m\u001b[0;34m(\u001b[0m\u001b[0;34m'tukang galon'\u001b[0m\u001b[0;34m)\u001b[0m\u001b[0;34m\u001b[0m\u001b[0;34m\u001b[0m\u001b[0m\n\u001b[0m",
            "\u001b[0;31mNameError\u001b[0m: name 'call' is not defined"
          ]
        }
      ]
    },
    {
      "cell_type": "code",
      "source": [
        "hp_bambang = Handphone()\n",
        "hp_bambang.ringing()"
      ],
      "metadata": {
        "colab": {
          "base_uri": "https://localhost:8080/"
        },
        "id": "gM3DmwwXjcgE",
        "outputId": "dc06f667-ef21-4101-e4cf-9f4f3de041b2"
      },
      "execution_count": null,
      "outputs": [
        {
          "output_type": "stream",
          "name": "stdout",
          "text": [
            "kring kring kring\n"
          ]
        }
      ]
    },
    {
      "cell_type": "code",
      "source": [
        "ringing()"
      ],
      "metadata": {
        "colab": {
          "base_uri": "https://localhost:8080/",
          "height": 180
        },
        "id": "SPTfnooQjlnb",
        "outputId": "7c42dd80-0cc7-41e6-9e1e-fb8e5cd015e9"
      },
      "execution_count": null,
      "outputs": [
        {
          "output_type": "error",
          "ename": "NameError",
          "evalue": "ignored",
          "traceback": [
            "\u001b[0;31m---------------------------------------------------------------------------\u001b[0m",
            "\u001b[0;31mNameError\u001b[0m                                 Traceback (most recent call last)",
            "\u001b[0;32m<ipython-input-23-b2f1a86669d7>\u001b[0m in \u001b[0;36m<cell line: 1>\u001b[0;34m()\u001b[0m\n\u001b[0;32m----> 1\u001b[0;31m \u001b[0mringing\u001b[0m\u001b[0;34m(\u001b[0m\u001b[0;34m)\u001b[0m\u001b[0;34m\u001b[0m\u001b[0;34m\u001b[0m\u001b[0m\n\u001b[0m",
            "\u001b[0;31mNameError\u001b[0m: name 'ringing' is not defined"
          ]
        }
      ]
    },
    {
      "cell_type": "markdown",
      "source": [
        "Metode ringing adalah contoh metode yang tanpa argumen, sehingga saat melakukan pemanggilan kita tidak perlu mengisikan argumen ke dalam kurung, walaupun terdapat parameter self.\n",
        "\n",
        "Selain metode tersebut, ada juga metode dengan argumen yang akan kita contohkan dengan membuat sebuah fungsi call."
      ],
      "metadata": {
        "id": "E1C9_OyRDALR"
      }
    },
    {
      "cell_type": "code",
      "source": [
        "hp_bambang.call('tukang galon')"
      ],
      "metadata": {
        "colab": {
          "base_uri": "https://localhost:8080/"
        },
        "id": "uWmcunO7B4W3",
        "outputId": "5a150ad7-e637-4fff-99f3-9860975d50c8"
      },
      "execution_count": null,
      "outputs": [
        {
          "output_type": "stream",
          "name": "stdout",
          "text": [
            "memanggil tukang galon\n"
          ]
        }
      ]
    },
    {
      "cell_type": "markdown",
      "source": [
        "Walaupun method call memiliki parameter self, namun tidak perlu didefinisikan ketika memanggil, cukup memasukkan parameter selain self"
      ],
      "metadata": {
        "id": "grfENj2xCo67"
      }
    },
    {
      "cell_type": "markdown",
      "source": [
        "**\\_\\_Init\\_\\_ method**\n",
        "\n",
        "Metode \\_\\_Init\\_\\_ digunakan sebagai inisiasi class yang kita jalankan jadi saat kita memanggil class tersebut sebagai sebuah objek maka metode ini akan dijalankan terlebih dahulu."
      ],
      "metadata": {
        "id": "uLLFQcPPEBng"
      }
    },
    {
      "cell_type": "code",
      "source": [
        "class Handphone_1():\n",
        "  def __init__(self):\n",
        "    self.merk = 'apa aja boleh'\n",
        "    self.warna = 'bebas'\n",
        "    print('memanggil class Handphone')"
      ],
      "metadata": {
        "id": "7lHe5geVD_BC"
      },
      "execution_count": null,
      "outputs": []
    },
    {
      "cell_type": "code",
      "source": [
        "hp_valent = Handphone_1()\n",
        "print(hp_valent.merk)"
      ],
      "metadata": {
        "colab": {
          "base_uri": "https://localhost:8080/"
        },
        "id": "-tkZQZbqnAdW",
        "outputId": "0e4340a1-2e77-4bcb-e0c7-7258dffc9692"
      },
      "execution_count": null,
      "outputs": [
        {
          "output_type": "stream",
          "name": "stdout",
          "text": [
            "memanggil class Handphone\n",
            "apa aja boleh\n"
          ]
        }
      ]
    },
    {
      "cell_type": "code",
      "source": [
        "hp_puan = Handphone_1()\n",
        "print(hp_puan.merk)"
      ],
      "metadata": {
        "colab": {
          "base_uri": "https://localhost:8080/"
        },
        "id": "m4Ks8M_goC1j",
        "outputId": "14d0290d-8b92-4cf0-e66f-636bf6a32d6e"
      },
      "execution_count": null,
      "outputs": [
        {
          "output_type": "stream",
          "name": "stdout",
          "text": [
            "memanggil class Handphone\n",
            "apa aja boleh\n"
          ]
        }
      ]
    },
    {
      "cell_type": "code",
      "source": [
        "class Handphone_3():\n",
        "  def __init__(self, merk, pemilik, warna):\n",
        "    self.merk = merk\n",
        "    self.warna = warna\n",
        "    self.pemilik = pemilik\n",
        "    self.kelas = 'data engineer'\n",
        "    # print('memanggil class Handphone')"
      ],
      "metadata": {
        "id": "3ECfs5MDoAX0"
      },
      "execution_count": null,
      "outputs": []
    },
    {
      "cell_type": "code",
      "source": [
        "hp_valent = Handphone_3('nyamnyung', 'dimas', 'rose gold')\n",
        "print(hp_valent.merk)\n",
        "print(hp_valent.warna)\n",
        "print(hp_valent.kelas)"
      ],
      "metadata": {
        "colab": {
          "base_uri": "https://localhost:8080/"
        },
        "id": "-lZO0IevoZ6b",
        "outputId": "c5d5b181-546a-4e6e-9a04-4d2b98edefc4"
      },
      "execution_count": null,
      "outputs": [
        {
          "output_type": "stream",
          "name": "stdout",
          "text": [
            "nyamnyung\n",
            "rose gold\n",
            "data engineer\n"
          ]
        }
      ]
    },
    {
      "cell_type": "code",
      "source": [
        "hp_puan = Handphone_3('apple', 'mega', 'merah merona')\n",
        "print(hp_puan.merk)\n",
        "print(hp_puan.warna)\n",
        "print(hp_puan.kelas)"
      ],
      "metadata": {
        "colab": {
          "base_uri": "https://localhost:8080/"
        },
        "id": "ge4LwROhpFFF",
        "outputId": "9e11b1aa-7dcb-4ee0-f82a-62390ad4418a"
      },
      "execution_count": null,
      "outputs": [
        {
          "output_type": "stream",
          "name": "stdout",
          "text": [
            "apple\n",
            "merah merona\n",
            "data engineer\n"
          ]
        }
      ]
    },
    {
      "cell_type": "code",
      "source": [],
      "metadata": {
        "id": "lwe8m9CopiPe"
      },
      "execution_count": null,
      "outputs": []
    },
    {
      "cell_type": "code",
      "source": [
        "class Handphone_2():\n",
        "\n",
        "\n",
        "  def ringing(self):\n",
        "    print(\"kring kring kring\")\n",
        "\n",
        "  def call(self, orang):\n",
        "      print(f\"memanggil {orang}\")\n",
        "      # print(\"memanggil \"+orang)"
      ],
      "metadata": {
        "id": "UA018j0PEgiV"
      },
      "execution_count": null,
      "outputs": []
    },
    {
      "cell_type": "code",
      "source": [
        "hp_dimas = Handphone_2()\n",
        "print(hp_dimas.merk)"
      ],
      "metadata": {
        "colab": {
          "base_uri": "https://localhost:8080/",
          "height": 198
        },
        "id": "t8YMCtgOnG_1",
        "outputId": "e420c372-0bfc-418b-9c74-564c29651cc4"
      },
      "execution_count": null,
      "outputs": [
        {
          "output_type": "error",
          "ename": "AttributeError",
          "evalue": "ignored",
          "traceback": [
            "\u001b[0;31m---------------------------------------------------------------------------\u001b[0m",
            "\u001b[0;31mAttributeError\u001b[0m                            Traceback (most recent call last)",
            "\u001b[0;32m<ipython-input-49-bda86cecc473>\u001b[0m in \u001b[0;36m<cell line: 2>\u001b[0;34m()\u001b[0m\n\u001b[1;32m      1\u001b[0m \u001b[0mhp_dimas\u001b[0m \u001b[0;34m=\u001b[0m \u001b[0mHandphone_2\u001b[0m\u001b[0;34m(\u001b[0m\u001b[0;34m)\u001b[0m\u001b[0;34m\u001b[0m\u001b[0;34m\u001b[0m\u001b[0m\n\u001b[0;32m----> 2\u001b[0;31m \u001b[0mprint\u001b[0m\u001b[0;34m(\u001b[0m\u001b[0mhp_dimas\u001b[0m\u001b[0;34m.\u001b[0m\u001b[0mmerk\u001b[0m\u001b[0;34m)\u001b[0m\u001b[0;34m\u001b[0m\u001b[0;34m\u001b[0m\u001b[0m\n\u001b[0m",
            "\u001b[0;31mAttributeError\u001b[0m: 'Handphone_2' object has no attribute 'merk'"
          ]
        }
      ]
    },
    {
      "cell_type": "markdown",
      "source": [
        "Seperti yang terlihat, saat kita menginisiasi pembuatan objek hp_bambang maka dengan otomatis print(“ini hp saya”) terjalankan.\n",
        "\n",
        "Jadi apa gunanya hal ini?\n",
        "dengan melakukan ini maka kita bisa lebih menyederhanakan kode yang kita tulis sehingga lebih mudah dibaca.\n",
        "\n",
        "Kita akan coba masukkan atribut merk dan warna pada fungsi init tersebut."
      ],
      "metadata": {
        "id": "QLYea9SzEuNU"
      }
    },
    {
      "cell_type": "code",
      "source": [
        "class Handphone:\n",
        "\n",
        "    def __init__(self, merk, warna):\n",
        "        self.merk = merk\n",
        "        self.warna = warna"
      ],
      "metadata": {
        "id": "-fs4m31NE4n-"
      },
      "execution_count": null,
      "outputs": []
    },
    {
      "cell_type": "code",
      "source": [
        "hp_bambang = Handphone(\"oddo\", 'hijau telur asin')\n",
        "print(hp_bambang)\n",
        "print(hp_bambang.warna)\n",
        "print(hp_bambang.__dict__)"
      ],
      "metadata": {
        "colab": {
          "base_uri": "https://localhost:8080/"
        },
        "id": "qdCrHXVNOdLx",
        "outputId": "80ef37a6-3234-49cf-e3ac-376fc2a9a1dc"
      },
      "execution_count": null,
      "outputs": [
        {
          "output_type": "stream",
          "name": "stdout",
          "text": [
            "<__main__.Handphone object at 0x7c8fc5400700>\n",
            "hijau telur asin\n",
            "{'merk': 'oddo', 'warna': 'hijau telur asin'}\n"
          ]
        }
      ]
    },
    {
      "cell_type": "code",
      "source": [
        "hp_caca = Handphone(\"siomay\", 'hitam')\n",
        "print(hp_caca)\n",
        "print(hp_caca.warna)\n",
        "print(hp_caca.__dict__)"
      ],
      "metadata": {
        "colab": {
          "base_uri": "https://localhost:8080/"
        },
        "id": "MtmPO6MbOecv",
        "outputId": "dae9b051-f804-4c50-f1ee-40214433261c"
      },
      "execution_count": null,
      "outputs": [
        {
          "output_type": "stream",
          "name": "stdout",
          "text": [
            "<__main__.Handphone object at 0x7c8ff77370d0>\n",
            "hitam\n",
            "{'merk': 'apple jatoh', 'warna': 'hitam'}\n"
          ]
        }
      ]
    },
    {
      "cell_type": "code",
      "source": [
        "# class Handphone():\n",
        "#   pass\n",
        "\n",
        "\n",
        "# hp_bambang = Handphone()\n",
        "# hp_bambang.merk = \"oddo\"\n",
        "# hp_bambang.warna = 'hijau telur asin'\n",
        "# print(hp_bambang)\n",
        "# print(hp_bambang.warna)\n",
        "# print(hp_bambang.__dict__)\n",
        "\n",
        "# hp_caca = Handphone()\n",
        "# hp_caca.merk = \"siomay\"\n",
        "# hp_caca.warna = 'hitam'\n",
        "# print(hp_caca)\n",
        "# print(hp_caca.warna)\n",
        "# print(hp_caca.__dict__)"
      ],
      "metadata": {
        "colab": {
          "base_uri": "https://localhost:8080/"
        },
        "id": "IcoaTVIeFFtQ",
        "outputId": "b4a085da-a580-46c6-b4df-a521f0aab4b0"
      },
      "execution_count": null,
      "outputs": [
        {
          "output_type": "stream",
          "name": "stdout",
          "text": [
            "<__main__.Handphone object at 0x7c8fc5400580>\n",
            "hijau telur asin\n",
            "{'merk': 'oddo', 'warna': 'hijau telur asin'}\n",
            "<__main__.Handphone object at 0x7c900464ea70>\n",
            "hitam\n",
            "{'merk': 'siomay', 'warna': 'hitam'}\n"
          ]
        }
      ]
    },
    {
      "cell_type": "markdown",
      "source": [
        "Kesederhaan ini akan lebih terlihat lagi jika apa yang kita lakukan menjadi lebih rumit sehingga membutuhkan banyak sekali atribut maka kita hanya membutuhkan satu baris saja untuk menginisiasi sebuah objek."
      ],
      "metadata": {
        "id": "NmZxM6cuOyHl"
      }
    },
    {
      "cell_type": "markdown",
      "source": [
        "Pada dasarnya method init sama seperti method lain, namun method ini akan selalu dijalankan ketika object pertama dipanggil dan method ini akan dijalankan pertama kali"
      ],
      "metadata": {
        "id": "_pDtY4zgO4m8"
      }
    },
    {
      "cell_type": "markdown",
      "source": [
        "### Attribute Kelas & Attribute Objek\n",
        "\n",
        "Atribut yang kita buat sebelumnya adalah atribut objek, apa maksudnya? Maksudnya adalah atribut tersebut hanya menjadi miliki objek yang didefinisikan.\n",
        "\n",
        "Misal untuk hp_bambang merknya adalah oddo sedangkan untuk hp_caca merknya adalah siomay.\n",
        "\n",
        "Atribut kelas adalah atribut yang menjadi milik si class tersebut artinya nilainya akan sama untuk semua metode di dalam class tersebut."
      ],
      "metadata": {
        "id": "SVkuXR9PDZUC"
      }
    },
    {
      "cell_type": "code",
      "source": [
        "class Handphone():\n",
        "    # class attribute\n",
        "    tipe = 'Android'\n",
        "\n",
        "    def __init__(self, merk, warna):\n",
        "      self.merk = merk # object attribute\n",
        "      self.warna = warna # object attribute"
      ],
      "metadata": {
        "id": "WEI1v9seD64P"
      },
      "execution_count": null,
      "outputs": []
    },
    {
      "cell_type": "code",
      "source": [
        "hp_bambang = Handphone('siomay', 'putih')"
      ],
      "metadata": {
        "id": "OOIyt_J9rqQS"
      },
      "execution_count": null,
      "outputs": []
    },
    {
      "cell_type": "code",
      "source": [
        "print(hp_bambang.__dict__)"
      ],
      "metadata": {
        "colab": {
          "base_uri": "https://localhost:8080/"
        },
        "id": "5bVN7gnirsc7",
        "outputId": "d0ad5c3f-d505-4b8b-d0bf-79c927fe9e44"
      },
      "execution_count": null,
      "outputs": [
        {
          "output_type": "stream",
          "name": "stdout",
          "text": [
            "{'merk': 'siomay', 'warna': 'putih'}\n"
          ]
        }
      ]
    },
    {
      "cell_type": "code",
      "source": [
        "print(hp_bambang.tipe)"
      ],
      "metadata": {
        "colab": {
          "base_uri": "https://localhost:8080/"
        },
        "id": "Yw2tHWmfrxpc",
        "outputId": "7f933c66-6eeb-487c-cf6e-6ed1e55d43df"
      },
      "execution_count": null,
      "outputs": [
        {
          "output_type": "stream",
          "name": "stdout",
          "text": [
            "Android\n"
          ]
        }
      ]
    },
    {
      "cell_type": "code",
      "source": [
        "hp_caca = Handphone('nyamnyung', 'hitam')"
      ],
      "metadata": {
        "id": "8rZZiaIGtKVP"
      },
      "execution_count": null,
      "outputs": []
    },
    {
      "cell_type": "code",
      "source": [
        "print(hp_caca.__dict__)\n",
        "print(hp_caca.tipe)"
      ],
      "metadata": {
        "colab": {
          "base_uri": "https://localhost:8080/"
        },
        "id": "3srQYJborso1",
        "outputId": "23e27633-640a-4373-977d-a6652b988f44"
      },
      "execution_count": null,
      "outputs": [
        {
          "output_type": "stream",
          "name": "stdout",
          "text": [
            "{'merk': 'nyamnyung', 'warna': 'hitam'}\n",
            "Android\n"
          ]
        }
      ]
    },
    {
      "cell_type": "code",
      "source": [
        "hp_bambang.tipe = 'blackberry'"
      ],
      "metadata": {
        "id": "n1wJgpoltOKk"
      },
      "execution_count": null,
      "outputs": []
    },
    {
      "cell_type": "code",
      "source": [
        "print(hp_bambang.__dict__)"
      ],
      "metadata": {
        "colab": {
          "base_uri": "https://localhost:8080/"
        },
        "id": "6IuMTtJ7r89S",
        "outputId": "f25a0835-d14d-4fd1-c391-5eae06acb7f6"
      },
      "execution_count": null,
      "outputs": [
        {
          "output_type": "stream",
          "name": "stdout",
          "text": [
            "{'merk': 'siomay', 'warna': 'putih', 'tipe': 'blackberry'}\n"
          ]
        }
      ]
    },
    {
      "cell_type": "code",
      "source": [
        "print(hp_caca.__dict__)"
      ],
      "metadata": {
        "id": "6NIj-7F1tSpD",
        "colab": {
          "base_uri": "https://localhost:8080/"
        },
        "outputId": "82e8cb87-2b44-4700-a116-ddb3840cf7ee"
      },
      "execution_count": null,
      "outputs": [
        {
          "output_type": "stream",
          "name": "stdout",
          "text": [
            "{'merk': 'nyamnyung', 'warna': 'hitam'}\n"
          ]
        }
      ]
    },
    {
      "cell_type": "code",
      "source": [
        "print(hp_caca.tipe)"
      ],
      "metadata": {
        "colab": {
          "base_uri": "https://localhost:8080/"
        },
        "id": "JYv05kgKtWY5",
        "outputId": "a4a79d55-6f80-4ff4-cb3c-a2407e37f015"
      },
      "execution_count": null,
      "outputs": [
        {
          "output_type": "stream",
          "name": "stdout",
          "text": [
            "Android\n"
          ]
        }
      ]
    },
    {
      "cell_type": "code",
      "source": [
        "Handphone.tipe = 'esia'"
      ],
      "metadata": {
        "id": "nVeONib7sWzj"
      },
      "execution_count": null,
      "outputs": []
    },
    {
      "cell_type": "code",
      "source": [
        "print(hp_bambang.__dict__)\n",
        "print(hp_caca.__dict__)"
      ],
      "metadata": {
        "colab": {
          "base_uri": "https://localhost:8080/"
        },
        "id": "SpmuIkP8scOE",
        "outputId": "586296c1-178c-4986-c3f2-d9bbfda997e9"
      },
      "execution_count": null,
      "outputs": [
        {
          "output_type": "stream",
          "name": "stdout",
          "text": [
            "{'merk': 'siomay', 'warna': 'putih', 'tipe': 'blackberry'}\n",
            "{'merk': 'nyamnyung', 'warna': 'hitam'}\n"
          ]
        }
      ]
    },
    {
      "cell_type": "code",
      "source": [
        "print(hp_bambang.tipe)"
      ],
      "metadata": {
        "colab": {
          "base_uri": "https://localhost:8080/"
        },
        "id": "7cn2CsY3sf7u",
        "outputId": "6843b35f-033c-4cd2-d05f-676b34035dfb"
      },
      "execution_count": null,
      "outputs": [
        {
          "output_type": "stream",
          "name": "stdout",
          "text": [
            "blackberry\n"
          ]
        }
      ]
    },
    {
      "cell_type": "code",
      "source": [
        "print(hp_caca.tipe)"
      ],
      "metadata": {
        "colab": {
          "base_uri": "https://localhost:8080/"
        },
        "id": "8wlborPCsnbF",
        "outputId": "51880b03-7f37-4feb-db3d-f3de2b1ae329"
      },
      "execution_count": null,
      "outputs": [
        {
          "output_type": "stream",
          "name": "stdout",
          "text": [
            "esia\n"
          ]
        }
      ]
    },
    {
      "cell_type": "code",
      "source": [
        "hp_dimas = Handphone('vivo', 'hitam')"
      ],
      "metadata": {
        "id": "46QkNyEtssTU"
      },
      "execution_count": null,
      "outputs": []
    },
    {
      "cell_type": "code",
      "source": [
        "print(hp_dimas.tipe)"
      ],
      "metadata": {
        "colab": {
          "base_uri": "https://localhost:8080/"
        },
        "id": "UEBGTDDWs1rm",
        "outputId": "7c0718e4-99cf-4d96-b3b1-d3de145450ec"
      },
      "execution_count": null,
      "outputs": [
        {
          "output_type": "stream",
          "name": "stdout",
          "text": [
            "esia\n"
          ]
        }
      ]
    },
    {
      "cell_type": "markdown",
      "source": [
        "Sampai sini kalian sudah bisa mengenal OOP dan memuat class sederhana. dengan memanfaatkan atribut/variabel dan metode/fungsi yang sesuai."
      ],
      "metadata": {
        "id": "YuGx_JAOBeCU"
      }
    },
    {
      "cell_type": "markdown",
      "source": [
        "## Concepts of OOP\n",
        "\n",
        "<img src=\"https://docs.google.com/uc?export=download&id=1C7mSNggBhMy5jrBxIMllsw4r9gnuPFmE\">"
      ],
      "metadata": {
        "id": "PE7XJE4HZtGP"
      }
    },
    {
      "cell_type": "markdown",
      "source": [
        "### Inheritance\n",
        "\n",
        "Inheritance adalah sifat penurunan, yaitu menurunkan sifat yang dimiliki kelas utama (parent) class kepada kelas yang diturunkan (child class).\n",
        "\n",
        "```\n",
        "NEW Class Functionality = OLD Class Functionality + EXTRA\n",
        "```\n",
        "\n",
        "\n",
        "\n",
        "<img src=\"https://docs.google.com/uc?export=download&id=13CtXFytH3uAxq28QHha0aDcpQVenA91H\">"
      ],
      "metadata": {
        "id": "_ql3DqwXaP3w"
      }
    },
    {
      "cell_type": "code",
      "source": [
        "class parent():\n",
        "  def talk(self):\n",
        "    print('berbicara')\n",
        "\n",
        "class child(parent):\n",
        "  pass"
      ],
      "metadata": {
        "id": "w2Auu0spbmiJ"
      },
      "execution_count": null,
      "outputs": []
    },
    {
      "cell_type": "code",
      "source": [
        "bapak = parent()"
      ],
      "metadata": {
        "id": "cU_4ij-PuMNy"
      },
      "execution_count": null,
      "outputs": []
    },
    {
      "cell_type": "code",
      "source": [
        "bapak.talk()"
      ],
      "metadata": {
        "colab": {
          "base_uri": "https://localhost:8080/"
        },
        "id": "jdxuXv1fuQaa",
        "outputId": "49a5052e-cc78-4376-e2c5-db916bd85aea"
      },
      "execution_count": null,
      "outputs": [
        {
          "output_type": "stream",
          "name": "stdout",
          "text": [
            "berbicara\n"
          ]
        }
      ]
    },
    {
      "cell_type": "code",
      "source": [
        "anak_1 = child()\n",
        "anak_2 = child()"
      ],
      "metadata": {
        "id": "JGZW5osedgaN"
      },
      "execution_count": null,
      "outputs": []
    },
    {
      "cell_type": "code",
      "source": [
        "anak_1.talk()"
      ],
      "metadata": {
        "colab": {
          "base_uri": "https://localhost:8080/"
        },
        "id": "vQBu43_ZuaJc",
        "outputId": "2b7b5765-2f3d-45d0-bda7-46f9007938bc"
      },
      "execution_count": null,
      "outputs": [
        {
          "output_type": "stream",
          "name": "stdout",
          "text": [
            "berbicara\n"
          ]
        }
      ]
    },
    {
      "cell_type": "code",
      "source": [
        "class Warga():\n",
        "\n",
        "    def __init__(self, NIK: str):\n",
        "        self.nik = NIK\n",
        "        self.memilih = False"
      ],
      "metadata": {
        "id": "9rYfQN4_brcu"
      },
      "execution_count": null,
      "outputs": []
    },
    {
      "cell_type": "code",
      "source": [
        "class Satpam(Warga):\n",
        "    pass\n",
        "\n",
        "class Petugas(Warga):\n",
        "    pass"
      ],
      "metadata": {
        "id": "gvNDf6FjuteQ"
      },
      "execution_count": null,
      "outputs": []
    },
    {
      "cell_type": "code",
      "source": [
        "mukhlis = Satpam('123141231')\n",
        "print(mukhlis.nik)\n",
        "print(mukhlis.memilih)"
      ],
      "metadata": {
        "colab": {
          "base_uri": "https://localhost:8080/"
        },
        "id": "RwOLGcypeuts",
        "outputId": "b2ade263-aa5f-44a5-a663-b7522e7ea96f"
      },
      "execution_count": null,
      "outputs": [
        {
          "output_type": "stream",
          "name": "stdout",
          "text": [
            "123141231\n",
            "False\n"
          ]
        }
      ]
    },
    {
      "cell_type": "code",
      "source": [
        "coki = Warga('66666')\n",
        "print(coki.nik)\n",
        "print(coki.memilih)"
      ],
      "metadata": {
        "colab": {
          "base_uri": "https://localhost:8080/"
        },
        "id": "ryIHRy-tvSxy",
        "outputId": "b06c0f12-fd5c-4c92-c0a5-3cbb3c560b0b"
      },
      "execution_count": null,
      "outputs": [
        {
          "output_type": "stream",
          "name": "stdout",
          "text": [
            "66666\n",
            "False\n"
          ]
        }
      ]
    },
    {
      "cell_type": "code",
      "source": [
        "muslim = Petugas('41231')\n",
        "print(muslim.nik)\n",
        "print(muslim.memilih)"
      ],
      "metadata": {
        "colab": {
          "base_uri": "https://localhost:8080/"
        },
        "id": "FPf8uVGQvYxp",
        "outputId": "33af5b6a-5666-4a0d-90da-178a401051a2"
      },
      "execution_count": null,
      "outputs": [
        {
          "output_type": "stream",
          "name": "stdout",
          "text": [
            "41231\n",
            "False\n"
          ]
        }
      ]
    },
    {
      "cell_type": "code",
      "source": [
        "class Warga():\n",
        "    hasil_pemilihan = []\n",
        "\n",
        "    def __init__(self, NIK: str):\n",
        "        self.nik = NIK\n",
        "        self.memilih = False\n",
        "\n",
        "    def nyoblos(self, orang):\n",
        "        print(f'{self.nik} memilih {orang}')\n",
        "        Warga.hasil_pemilihan.append(orang)\n",
        "        # self.memilih = True\n",
        "\n",
        "class Satpam(Warga):\n",
        "    pass\n",
        "\n",
        "class Petugas(Warga):\n",
        "    pass"
      ],
      "metadata": {
        "id": "3rQhAB4senZM"
      },
      "execution_count": null,
      "outputs": []
    },
    {
      "cell_type": "code",
      "source": [
        "mukhlis = Satpam('123141231')\n",
        "print(mukhlis.nik)\n",
        "print(mukhlis.memilih)"
      ],
      "metadata": {
        "colab": {
          "base_uri": "https://localhost:8080/"
        },
        "id": "oANQsUf5dkmf",
        "outputId": "22ad8b4d-fc46-4dc8-d62d-5372565d086e"
      },
      "execution_count": null,
      "outputs": [
        {
          "output_type": "stream",
          "name": "stdout",
          "text": [
            "123141231\n",
            "False\n"
          ]
        }
      ]
    },
    {
      "cell_type": "code",
      "source": [
        "mukhlis.nyoblos('aldi taher')"
      ],
      "metadata": {
        "colab": {
          "base_uri": "https://localhost:8080/"
        },
        "id": "YLTh3CmywLMr",
        "outputId": "c333352c-6867-4578-fa0e-aa34c4487306"
      },
      "execution_count": null,
      "outputs": [
        {
          "output_type": "stream",
          "name": "stdout",
          "text": [
            "123141231 memilih aldi taher\n"
          ]
        }
      ]
    },
    {
      "cell_type": "code",
      "source": [
        "print(Satpam.hasil_pemilihan)"
      ],
      "metadata": {
        "colab": {
          "base_uri": "https://localhost:8080/"
        },
        "id": "iZQcJx-Iwisq",
        "outputId": "15dcd845-f650-4698-e52b-ce4b99fc74b4"
      },
      "execution_count": null,
      "outputs": [
        {
          "output_type": "stream",
          "name": "stdout",
          "text": [
            "['aldi taher']\n"
          ]
        }
      ]
    },
    {
      "cell_type": "code",
      "source": [
        "print(Warga.hasil_pemilihan)"
      ],
      "metadata": {
        "colab": {
          "base_uri": "https://localhost:8080/"
        },
        "id": "UeYlXnGkwyK5",
        "outputId": "eec93f97-5df6-47fe-c221-46750403f935"
      },
      "execution_count": null,
      "outputs": [
        {
          "output_type": "stream",
          "name": "stdout",
          "text": [
            "['aldi taher']\n"
          ]
        }
      ]
    },
    {
      "cell_type": "code",
      "source": [
        "coki = Warga('66666')\n",
        "print(coki.nik)\n",
        "print(coki.memilih)"
      ],
      "metadata": {
        "id": "ZXbKDFN1brhy"
      },
      "execution_count": null,
      "outputs": []
    },
    {
      "cell_type": "code",
      "source": [],
      "metadata": {
        "id": "C3UkDJ2mdnhd"
      },
      "execution_count": null,
      "outputs": []
    },
    {
      "cell_type": "code",
      "source": [],
      "metadata": {
        "id": "FlicEAORb-gi"
      },
      "execution_count": null,
      "outputs": []
    },
    {
      "cell_type": "code",
      "source": [],
      "metadata": {
        "id": "W_wc0kJSdWXN"
      },
      "execution_count": null,
      "outputs": []
    },
    {
      "cell_type": "code",
      "source": [],
      "metadata": {
        "id": "X9y2RlaJb_0I"
      },
      "execution_count": null,
      "outputs": []
    },
    {
      "cell_type": "markdown",
      "source": [
        "### Polymorphism\n",
        "\n",
        "In simple way, polymorphism means the same function name being used for different use case\n",
        "\n",
        "\n",
        "\n",
        "```\n",
        "class MyParent:\n",
        "   def talk(self):\n",
        "       print(“saya parent”)\n",
        "\n",
        "class MyChild(MyParent):\n",
        "   def talk(self):\n",
        "       print(“saya child”)\n",
        "```\n",
        "\n"
      ],
      "metadata": {
        "id": "i6NLqFKpgQWY"
      }
    },
    {
      "cell_type": "code",
      "source": [
        "class parent():\n",
        "  def talk(self):\n",
        "    print('berbicara')\n",
        "\n",
        "class child(parent):\n",
        "  pass"
      ],
      "metadata": {
        "id": "1StETudQxoF6"
      },
      "execution_count": null,
      "outputs": []
    },
    {
      "cell_type": "code",
      "source": [
        "class MyParent:\n",
        "   def talk(self):\n",
        "       print(\"saya parent\")\n",
        "\n",
        "class MyChild(MyParent):\n",
        "   def talk(self):\n",
        "       print(\"saya child\")"
      ],
      "metadata": {
        "id": "FkEOS-3QxlaL"
      },
      "execution_count": null,
      "outputs": []
    },
    {
      "cell_type": "code",
      "source": [
        "bapak = MyParent()\n",
        "anak_1 = MyChild()"
      ],
      "metadata": {
        "id": "8Ox9Df2Sx0pC"
      },
      "execution_count": null,
      "outputs": []
    },
    {
      "cell_type": "code",
      "source": [
        "bapak.talk()"
      ],
      "metadata": {
        "colab": {
          "base_uri": "https://localhost:8080/"
        },
        "id": "rGTDJr89x6m0",
        "outputId": "c942bbb1-771f-4788-e3d3-eea8e22decaa"
      },
      "execution_count": null,
      "outputs": [
        {
          "output_type": "stream",
          "name": "stdout",
          "text": [
            "saya parent\n"
          ]
        }
      ]
    },
    {
      "cell_type": "code",
      "source": [
        "anak_1.talk()"
      ],
      "metadata": {
        "colab": {
          "base_uri": "https://localhost:8080/"
        },
        "id": "Z3fFimacx9Vo",
        "outputId": "45098590-9a5c-4ca1-f78f-2d9d59037827"
      },
      "execution_count": null,
      "outputs": [
        {
          "output_type": "stream",
          "name": "stdout",
          "text": [
            "saya child\n"
          ]
        }
      ]
    },
    {
      "cell_type": "code",
      "source": [
        "class parent():\n",
        "  def talk(self):\n",
        "    print('berbicara')\n",
        "\n",
        "class child(parent):\n",
        "  pass"
      ],
      "metadata": {
        "id": "AefdpavCyHB6"
      },
      "execution_count": null,
      "outputs": []
    },
    {
      "cell_type": "code",
      "source": [
        "bapak = parent()\n",
        "anak_1 = child()\n",
        "\n",
        "bapak.talk()\n",
        "anak_1.talk()"
      ],
      "metadata": {
        "colab": {
          "base_uri": "https://localhost:8080/"
        },
        "id": "aQT1RriuyKX-",
        "outputId": "8279e906-461e-45c8-c195-7096825ebe2c"
      },
      "execution_count": null,
      "outputs": [
        {
          "output_type": "stream",
          "name": "stdout",
          "text": [
            "berbicara\n",
            "berbicara\n"
          ]
        }
      ]
    },
    {
      "cell_type": "code",
      "source": [
        "class Warga():\n",
        "    def __init__(self, NIK: str):\n",
        "        self.nik = NIK\n",
        "\n",
        "    def nyoblos(self, pilihan: str):\n",
        "        self.pilihan = pilihan\n",
        "        print(f\"{self.nik} memilih {pilihan}\")\n",
        "\n",
        "class Tni(Warga):\n",
        "    def __init__(self, NIK, id_tni):\n",
        "        # Call the parent constructor using Classname.__init__()\n",
        "        super().__init__(NIK) # <===== self is Satpam but also Warga\n",
        "\n",
        "        # Add more constructor\n",
        "        self.id_tni = id_tni\n",
        "\n",
        "    def nyoblos(self, pilihan: str):\n",
        "        print(f\"{self.nik} tidak boleh memilih karena terdaftar dalam anggota TNI dengan nomor id {self.id_tni}\")"
      ],
      "metadata": {
        "id": "pQi9ZwsKgzEl"
      },
      "execution_count": null,
      "outputs": []
    },
    {
      "cell_type": "code",
      "source": [
        "lambo = Tni(\"123r4123\", \"tni_123\")\n",
        "lambo.nyoblos(\"Nurhadi\")"
      ],
      "metadata": {
        "id": "bkDIsfI6g3Oq",
        "colab": {
          "base_uri": "https://localhost:8080/"
        },
        "outputId": "fd71b336-4681-4b31-cabc-165a4be71016"
      },
      "execution_count": null,
      "outputs": [
        {
          "output_type": "stream",
          "name": "stdout",
          "text": [
            "123r4123 tidak boleh memilih karena terdaftar dalam anggota TNI dengan nomor id tni_123\n"
          ]
        }
      ]
    },
    {
      "cell_type": "code",
      "source": [
        "bambang = Warga(\"123r4123\")\n",
        "bambang.nyoblos(\"aldo\")"
      ],
      "metadata": {
        "colab": {
          "base_uri": "https://localhost:8080/"
        },
        "id": "BdRHJsx7y-UZ",
        "outputId": "7dad0b60-be48-4ecb-e10e-94b2c803a5bc"
      },
      "execution_count": null,
      "outputs": [
        {
          "output_type": "stream",
          "name": "stdout",
          "text": [
            "123r4123 memilih aldo\n"
          ]
        }
      ]
    },
    {
      "cell_type": "markdown",
      "source": [
        "### Abstraction\n",
        "\n",
        "It allows you to create a set of methods that must be created within any child classes built from the abstract class.\n"
      ],
      "metadata": {
        "id": "B0Mz4lLJhfGw"
      }
    },
    {
      "cell_type": "code",
      "source": [
        "from abc import ABC, abstractmethod\n",
        "\n",
        "class Warga(ABC):\n",
        "    def __init__(self, NIK: str):\n",
        "        self.nik = NIK\n",
        "\n",
        "    @abstractmethod\n",
        "    def nyoblos(self):\n",
        "        pass\n",
        "\n"
      ],
      "metadata": {
        "id": "twa8T1_KhcpT"
      },
      "execution_count": null,
      "outputs": []
    },
    {
      "cell_type": "code",
      "source": [
        "abc = Warga('1231241')"
      ],
      "metadata": {
        "colab": {
          "base_uri": "https://localhost:8080/",
          "height": 180
        },
        "id": "ySEQS-Ut1FUl",
        "outputId": "4dbd3e09-5954-4b2c-bfcd-789fc76d6a55"
      },
      "execution_count": null,
      "outputs": [
        {
          "output_type": "error",
          "ename": "TypeError",
          "evalue": "ignored",
          "traceback": [
            "\u001b[0;31m---------------------------------------------------------------------------\u001b[0m",
            "\u001b[0;31mTypeError\u001b[0m                                 Traceback (most recent call last)",
            "\u001b[0;32m<ipython-input-122-fc436088d9e0>\u001b[0m in \u001b[0;36m<cell line: 1>\u001b[0;34m()\u001b[0m\n\u001b[0;32m----> 1\u001b[0;31m \u001b[0mabc\u001b[0m \u001b[0;34m=\u001b[0m \u001b[0mWarga\u001b[0m\u001b[0;34m(\u001b[0m\u001b[0;34m'1231241'\u001b[0m\u001b[0;34m)\u001b[0m\u001b[0;34m\u001b[0m\u001b[0;34m\u001b[0m\u001b[0m\n\u001b[0m",
            "\u001b[0;31mTypeError\u001b[0m: Can't instantiate abstract class Warga with abstract method nyoblos"
          ]
        }
      ]
    },
    {
      "cell_type": "code",
      "source": [
        "class Tni(Warga):\n",
        "    def __init__(self, NIK, id_tni):\n",
        "        # Call the parent constructor using Classname.__init__()\n",
        "        super().__init__(NIK) # <===== self is Satpam but also Warga\n",
        "\n",
        "        # Add more constructor\n",
        "        self.id_tni = id_tni\n",
        "\n",
        "    def nyoblos(self, pilihan: str):\n",
        "        print(f\"{self.nik} tidak boleh memilih karena terdaftar dalam anggota TNI dengan nomor id {self.id_tni}\")\n",
        "\n",
        "class Satpam(Warga):\n",
        "    def __init__(self, NIK, id_satpam):\n",
        "        # Call the parent constructor using Classname.__init__()\n",
        "        Warga.__init__(self, NIK) # <===== self is Satpam but also Warga\n",
        "        # Add more constructor\n",
        "        self.id_satpam = id_satpam\n",
        "\n",
        "    def nyoblos(self, pilihan: str):\n",
        "        self.pilihan = pilihan\n",
        "        print(f\"{self.nik} memilih {pilihan}\")"
      ],
      "metadata": {
        "id": "4TuoCBq6jTBl"
      },
      "execution_count": null,
      "outputs": []
    },
    {
      "cell_type": "code",
      "source": [
        "lambo = Tni(\"123r4123\", \"tni_123\")\n",
        "lambo.nyoblos(\"Nurhadi\")"
      ],
      "metadata": {
        "id": "irEXiip5jgFN",
        "colab": {
          "base_uri": "https://localhost:8080/"
        },
        "outputId": "1770d278-603f-4d6a-e4d3-3b6dbd2ab42f"
      },
      "execution_count": null,
      "outputs": [
        {
          "output_type": "stream",
          "name": "stdout",
          "text": [
            "123r4123 tidak boleh memilih karena terdaftar dalam anggota TNI dengan nomor id tni_123\n"
          ]
        }
      ]
    },
    {
      "cell_type": "code",
      "source": [
        "class Orang_gila(Warga):\n",
        "    def __init__(self, NIK):\n",
        "        # Call the parent constructor using Classname.__init__()\n",
        "        Warga.__init__(self, NIK) # <===== self is Satpam but also Warga\n",
        "\n",
        "    def jalan_jalan(self):\n",
        "      print(\"cikini ke gondangdia\")\n",
        "\n",
        "    def nyoblos(self):\n",
        "      print(\"gaboleh nyoblos\")"
      ],
      "metadata": {
        "id": "y75gNLcX11ct"
      },
      "execution_count": null,
      "outputs": []
    },
    {
      "cell_type": "code",
      "source": [
        "orang1 = Orang_gila('12411431231')"
      ],
      "metadata": {
        "id": "jsdjPCwNjmab"
      },
      "execution_count": null,
      "outputs": []
    },
    {
      "cell_type": "code",
      "source": [
        "orang1.nyoblos()"
      ],
      "metadata": {
        "colab": {
          "base_uri": "https://localhost:8080/"
        },
        "id": "pPEqZiVY2ciA",
        "outputId": "787fa9f8-0019-4bce-9c0e-911e4ce2e694"
      },
      "execution_count": null,
      "outputs": [
        {
          "output_type": "stream",
          "name": "stdout",
          "text": [
            "gaboleh nyoblos\n"
          ]
        }
      ]
    },
    {
      "cell_type": "markdown",
      "source": [
        "### Encapsulation\n",
        "\n",
        "Encapsulation is one of the fundamental principles of object-oriented programming, which refers to the ability to encapsulate or hide the methods and variables from outside of class, and only expose a public interface to interact with it.\n",
        "\n",
        "Suatu objek pada python dapat kita batasi akses yang dimiliki terhadap objek tersebut dengan menggunakan encapsulation. caranya adalah dengan menggunakan dua garis bawah (__) sebelum nama variabel."
      ],
      "metadata": {
        "id": "NAo6A0y-fyZH"
      }
    },
    {
      "cell_type": "code",
      "source": [],
      "metadata": {
        "id": "SZGBq33TgNLi"
      },
      "execution_count": null,
      "outputs": []
    },
    {
      "cell_type": "code",
      "source": [],
      "metadata": {
        "id": "QFVk6BchgZFo"
      },
      "execution_count": null,
      "outputs": []
    },
    {
      "cell_type": "code",
      "source": [],
      "metadata": {
        "id": "M-E3-YMugcMx"
      },
      "execution_count": null,
      "outputs": []
    },
    {
      "cell_type": "code",
      "source": [],
      "metadata": {
        "id": "XuJcAXTDg0vW"
      },
      "execution_count": null,
      "outputs": []
    },
    {
      "cell_type": "code",
      "source": [],
      "metadata": {
        "id": "BN5X891lg5cu"
      },
      "execution_count": null,
      "outputs": []
    },
    {
      "cell_type": "code",
      "source": [],
      "metadata": {
        "id": "m3jIOO2IgcTD"
      },
      "execution_count": null,
      "outputs": []
    }
  ]
}